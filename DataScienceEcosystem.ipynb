{
 "cells": [
  {
   "cell_type": "markdown",
   "id": "dae3c2cd-fb2f-4f25-b4f6-ad47620bf82a",
   "metadata": {},
   "source": [
    "<h1> Data Science Tools and Ecosystem </h1>"
   ]
  },
  {
   "cell_type": "markdown",
   "id": "621c3c52-7784-467d-a078-db7a0cf4d6ab",
   "metadata": {},
   "source": [
    "In this notebook, Data Science Tools and Ecosystem are summarized."
   ]
  },
  {
   "cell_type": "markdown",
   "id": "9d599896-3537-48d0-b69b-3b4fa886bb89",
   "metadata": {},
   "source": [
    "Some of the popular languages that Data Scientists use are:\n",
    "\n",
    "<ol> \n",
    "    <li>Python</li>\n",
    "    <li>R </li>\n",
    "    <li>Java </li>\n",
    "    \n",
    "    \n",
    "</ol>"
   ]
  },
  {
   "cell_type": "markdown",
   "id": "6aa67eec-f5d4-4858-bbba-c5295ab439fe",
   "metadata": {},
   "source": [
    "Some of the commonly used libraries used by Data Scientists include:\n",
    "\n",
    "<ol> \n",
    "    <li>Pandas </li>\n",
    "    <li>Numpy </li>\n",
    "    <li>Sickit-learn </li> \n",
    "</ol>"
   ]
  },
  {
   "cell_type": "markdown",
   "id": "e29dd14b-64ca-4c0d-b3b9-90f8b76e398d",
   "metadata": {},
   "source": [
    "Below are a few examples of evaluating arithmetic expressions in Python"
   ]
  },
  {
   "cell_type": "code",
   "execution_count": 16,
   "id": "304b0eb5-a007-4373-a277-2aa101ea9485",
   "metadata": {},
   "outputs": [],
   "source": [
    "def convert_to_hours(min): \n",
    "    return f\"{round(min / 60, 1)}h\""
   ]
  },
  {
   "cell_type": "code",
   "execution_count": 19,
   "id": "2beb348e-e006-477e-ae27-a7c027515159",
   "metadata": {},
   "outputs": [
    {
     "data": {
      "text/plain": [
       "'94.7h'"
      ]
     },
     "execution_count": 19,
     "metadata": {},
     "output_type": "execute_result"
    }
   ],
   "source": [
    "convert_to_hours(5680)"
   ]
  },
  {
   "cell_type": "code",
   "execution_count": null,
   "id": "cc3b4ccc-6bbc-4421-9956-c6b0cecd614d",
   "metadata": {},
   "outputs": [],
   "source": []
  }
 ],
 "metadata": {
  "kernelspec": {
   "display_name": "Python 3 (ipykernel)",
   "language": "python",
   "name": "python3"
  },
  "language_info": {
   "codemirror_mode": {
    "name": "ipython",
    "version": 3
   },
   "file_extension": ".py",
   "mimetype": "text/x-python",
   "name": "python",
   "nbconvert_exporter": "python",
   "pygments_lexer": "ipython3",
   "version": "3.12.4"
  }
 },
 "nbformat": 4,
 "nbformat_minor": 5
}
